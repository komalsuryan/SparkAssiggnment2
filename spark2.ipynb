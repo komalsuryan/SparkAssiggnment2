{
 "cells": [
  {
   "cell_type": "code",
   "execution_count": 1,
   "id": "42cb5026",
   "metadata": {},
   "outputs": [
    {
     "data": {
      "text/plain": [
       "Intitializing Scala interpreter ..."
      ]
     },
     "metadata": {},
     "output_type": "display_data"
    },
    {
     "data": {
      "text/plain": [
       "Spark Web UI available at http://10.110.48.55:4040\n",
       "SparkContext available as 'sc' (version = 3.3.2, master = local[*], app id = local-1680803218993)\n",
       "SparkSession available as 'spark'\n"
      ]
     },
     "metadata": {},
     "output_type": "display_data"
    },
    {
     "name": "stdout",
     "output_type": "stream",
     "text": [
      "23/04/06 13:47:01 WARN SparkSession: Using an existing Spark session; only runtime SQL configurations will take effect.\n"
     ]
    },
    {
     "data": {
      "text/plain": [
       "import org.apache.spark.sql.SparkSession\n",
       "spark: org.apache.spark.sql.SparkSession = org.apache.spark.sql.SparkSession@5f30e7a1\n"
      ]
     },
     "execution_count": 1,
     "metadata": {},
     "output_type": "execute_result"
    }
   ],
   "source": [
    "import org.apache.spark.sql.SparkSession\n",
    "\n",
    "val spark = SparkSession\n",
    "  .builder()\n",
    "  .appName(\"spark2\")\n",
    "  .getOrCreate()"
   ]
  },
  {
   "cell_type": "code",
   "execution_count": 2,
   "id": "86395258",
   "metadata": {},
   "outputs": [
    {
     "data": {
      "text/plain": [
       "sc: org.apache.spark.SparkContext = org.apache.spark.SparkContext@46e24902\n"
      ]
     },
     "execution_count": 2,
     "metadata": {},
     "output_type": "execute_result"
    }
   ],
   "source": [
    "val sc = spark.sparkContext"
   ]
  },
  {
   "cell_type": "code",
   "execution_count": 3,
   "id": "05d83fbf",
   "metadata": {},
   "outputs": [
    {
     "data": {
      "text/plain": [
       "test: org.apache.spark.sql.DataFrame = [PassengerId: string, Pclass: string ... 9 more fields]\n",
       "train: org.apache.spark.sql.DataFrame = [PassengerId: string, Survived: string ... 10 more fields]\n"
      ]
     },
     "execution_count": 3,
     "metadata": {},
     "output_type": "execute_result"
    }
   ],
   "source": [
    "val test = spark.read.option(\"header\", \"true\").csv(\"test.csv\")\n",
    "val train = spark.read.option(\"header\", \"true\").csv(\"train.csv\")"
   ]
  },
  {
   "cell_type": "markdown",
   "id": "e8b3fc9d",
   "metadata": {},
   "source": [
    "### EDA"
   ]
  },
  {
   "cell_type": "code",
   "execution_count": 5,
   "id": "60129d30",
   "metadata": {
    "scrolled": true
   },
   "outputs": [
    {
     "name": "stdout",
     "output_type": "stream",
     "text": [
      "+-----------+--------+------+--------------------+------+---+-----+-----+----------------+-------+-----+--------+\n",
      "|PassengerId|Survived|Pclass|                Name|   Sex|Age|SibSp|Parch|          Ticket|   Fare|Cabin|Embarked|\n",
      "+-----------+--------+------+--------------------+------+---+-----+-----+----------------+-------+-----+--------+\n",
      "|          1|       0|     3|Braund, Mr. Owen ...|  male| 22|    1|    0|       A/5 21171|   7.25| null|       S|\n",
      "|          2|       1|     1|Cumings, Mrs. Joh...|female| 38|    1|    0|        PC 17599|71.2833|  C85|       C|\n",
      "|          3|       1|     3|Heikkinen, Miss. ...|female| 26|    0|    0|STON/O2. 3101282|  7.925| null|       S|\n",
      "|          4|       1|     1|Futrelle, Mrs. Ja...|female| 35|    1|    0|          113803|   53.1| C123|       S|\n",
      "|          5|       0|     3|Allen, Mr. Willia...|  male| 35|    0|    0|          373450|   8.05| null|       S|\n",
      "+-----------+--------+------+--------------------+------+---+-----+-----+----------------+-------+-----+--------+\n",
      "only showing top 5 rows\n",
      "\n"
     ]
    }
   ],
   "source": [
    "train.show(5)"
   ]
  },
  {
   "cell_type": "code",
   "execution_count": 6,
   "id": "c83cbdd3",
   "metadata": {},
   "outputs": [
    {
     "name": "stdout",
     "output_type": "stream",
     "text": [
      "+-----------+------+--------------------+------+----+-----+-----+-------+-------+-----+--------+\n",
      "|PassengerId|Pclass|                Name|   Sex| Age|SibSp|Parch| Ticket|   Fare|Cabin|Embarked|\n",
      "+-----------+------+--------------------+------+----+-----+-----+-------+-------+-----+--------+\n",
      "|        892|     3|    Kelly, Mr. James|  male|34.5|    0|    0| 330911| 7.8292| null|       Q|\n",
      "|        893|     3|Wilkes, Mrs. Jame...|female|  47|    1|    0| 363272|      7| null|       S|\n",
      "|        894|     2|Myles, Mr. Thomas...|  male|  62|    0|    0| 240276| 9.6875| null|       Q|\n",
      "|        895|     3|    Wirz, Mr. Albert|  male|  27|    0|    0| 315154| 8.6625| null|       S|\n",
      "|        896|     3|Hirvonen, Mrs. Al...|female|  22|    1|    1|3101298|12.2875| null|       S|\n",
      "+-----------+------+--------------------+------+----+-----+-----+-------+-------+-----+--------+\n",
      "only showing top 5 rows\n",
      "\n"
     ]
    }
   ],
   "source": [
    "test.show(5)"
   ]
  },
  {
   "cell_type": "code",
   "execution_count": 9,
   "id": "3f4d96e4",
   "metadata": {},
   "outputs": [
    {
     "name": "stdout",
     "output_type": "stream",
     "text": [
      "+------+--------+-----+\n",
      "|   Sex|Survived|count|\n",
      "+------+--------+-----+\n",
      "|female|       0|   81|\n",
      "|female|       1|  233|\n",
      "|  male|       1|  109|\n",
      "|  male|       0|  468|\n",
      "+------+--------+-----+\n",
      "\n"
     ]
    },
    {
     "data": {
      "text/plain": [
       "import org.apache.spark.sql.functions.count\n"
      ]
     },
     "execution_count": 9,
     "metadata": {},
     "output_type": "execute_result"
    }
   ],
   "source": [
    "import org.apache.spark.sql.functions.count\n",
    "\n",
    "train.groupBy(\"Sex\", \"Survived\")\n",
    "     .agg(count(\"Survived\").alias(\"count\"))\n",
    "     .show()\n"
   ]
  },
  {
   "cell_type": "code",
   "execution_count": 12,
   "id": "e81c3b9b",
   "metadata": {},
   "outputs": [
    {
     "name": "stdout",
     "output_type": "stream",
     "text": [
      "+------+--------+-----+\n",
      "|Pclass|Survived|count|\n",
      "+------+--------+-----+\n",
      "|     1|       1|  136|\n",
      "|     2|       0|   97|\n",
      "|     3|       1|  119|\n",
      "|     3|       0|  372|\n",
      "|     2|       1|   87|\n",
      "|     1|       0|   80|\n",
      "+------+--------+-----+\n",
      "\n"
     ]
    }
   ],
   "source": [
    "\n",
    "\n",
    "train.groupBy(\"Pclass\", \"Survived\")\n",
    "     .agg(count(\"Survived\").alias(\"count\"))\n",
    "     .show()"
   ]
  },
  {
   "cell_type": "code",
   "execution_count": 16,
   "id": "5bc7f511",
   "metadata": {},
   "outputs": [
    {
     "name": "stdout",
     "output_type": "stream",
     "text": [
      "+------+------+-----+\n",
      "|Pclass|   Sex|count|\n",
      "+------+------+-----+\n",
      "|     2|female|   76|\n",
      "|     2|  male|  108|\n",
      "|     3|  male|  347|\n",
      "|     1|  male|  122|\n",
      "|     1|female|   94|\n",
      "|     3|female|  144|\n",
      "+------+------+-----+\n",
      "\n"
     ]
    }
   ],
   "source": [
    "\n",
    "train.groupBy(\"Pclass\", \"Sex\")\n",
    "     .agg(count(\"Sex\").alias(\"count\"))\n",
    "     .show()"
   ]
  },
  {
   "cell_type": "markdown",
   "id": "6c4bcdb0",
   "metadata": {},
   "source": [
    "### Feature Engineering"
   ]
  },
  {
   "cell_type": "code",
   "execution_count": 17,
   "id": "f0414e67",
   "metadata": {},
   "outputs": [
    {
     "data": {
      "text/plain": [
       "test_new: org.apache.spark.sql.DataFrame = [PassengerId: int, Pclass: int ... 9 more fields]\n"
      ]
     },
     "execution_count": 17,
     "metadata": {},
     "output_type": "execute_result"
    }
   ],
   "source": [
    "val test_new = test\n",
    "  .withColumn(\"Age\", col(\"Age\").cast(\"Double\"))\n",
    "  .withColumn(\"Fare\", col(\"Fare\").cast(\"Double\"))\n",
    "  .withColumn(\"Pclass\", col(\"Pclass\").cast(\"Integer\"))\n",
    "  .withColumn(\"PassengerId\", col(\"PassengerId\").cast(\"Integer\"))"
   ]
  },
  {
   "cell_type": "code",
   "execution_count": 68,
   "id": "324a95c5",
   "metadata": {},
   "outputs": [
    {
     "data": {
      "text/plain": [
       "train_new: org.apache.spark.sql.DataFrame = [PassengerId: int, Survived: int ... 10 more fields]\n"
      ]
     },
     "execution_count": 68,
     "metadata": {},
     "output_type": "execute_result"
    }
   ],
   "source": [
    "val train_new = train\n",
    "  .withColumn(\"Age\", col(\"Age\").cast(\"Double\"))\n",
    "  .withColumn(\"Fare\", col(\"Fare\").cast(\"Double\"))\n",
    "  .withColumn(\"Pclass\", col(\"Pclass\").cast(\"Integer\"))\n",
    "  .withColumn(\"Survived\", col(\"Survived\").cast(\"Integer\"))\n",
    "  .withColumn(\"PassengerId\", col(\"PassengerId\").cast(\"Integer\"))"
   ]
  },
  {
   "cell_type": "code",
   "execution_count": 71,
   "id": "4f43d473",
   "metadata": {},
   "outputs": [
    {
     "data": {
      "text/plain": [
       "ageaggtrain: Double = 29.69911764705882\n",
       "fareaggtrain: Double = 32.2042079685746\n",
       "train_final: org.apache.spark.sql.DataFrame = [PassengerId: int, Survived: int ... 10 more fields]\n"
      ]
     },
     "execution_count": 71,
     "metadata": {},
     "output_type": "execute_result"
    }
   ],
   "source": [
    "val ageaggtrain = train_new.agg(avg(\"Age\")).first()(0).asInstanceOf[Double]\n",
    "val fareaggtrain = train_new.agg(avg(\"Fare\")).first()(0).asInstanceOf[Double]\n",
    "val train_final = train_new.na.fill(ageaggtrain, Seq(\"Age\")).na.fill(fareaggtrain, Seq(\"Fare\"))"
   ]
  },
  {
   "cell_type": "code",
   "execution_count": 72,
   "id": "0da56cb2",
   "metadata": {},
   "outputs": [
    {
     "data": {
      "text/plain": [
       "ageagg: Double = 30.272590361445783\n",
       "fareagg: Double = 35.6271884892086\n",
       "test_final: org.apache.spark.sql.DataFrame = [PassengerId: int, Pclass: int ... 9 more fields]\n"
      ]
     },
     "execution_count": 72,
     "metadata": {},
     "output_type": "execute_result"
    }
   ],
   "source": [
    "val ageagg = test_new.agg(avg(\"Age\")).first()(0).asInstanceOf[Double]\n",
    "val fareagg = test_new.agg(avg(\"Fare\")).first()(0).asInstanceOf[Double]\n",
    "val test_final = test_new.na.fill(ageagg, Seq(\"Age\")).na.fill(fareagg, Seq(\"Fare\"))"
   ]
  },
  {
   "cell_type": "code",
   "execution_count": 18,
   "id": "9be3fd45",
   "metadata": {},
   "outputs": [
    {
     "name": "stdout",
     "output_type": "stream",
     "text": [
      "+-----------+------+--------------------+------+----+-----+-----+-------+-------+-----+--------+\n",
      "|PassengerId|Pclass|                Name|   Sex| Age|SibSp|Parch| Ticket|   Fare|Cabin|Embarked|\n",
      "+-----------+------+--------------------+------+----+-----+-----+-------+-------+-----+--------+\n",
      "|        892|     3|    Kelly, Mr. James|  male|34.5|    0|    0| 330911| 7.8292| null|       Q|\n",
      "|        893|     3|Wilkes, Mrs. Jame...|female|47.0|    1|    0| 363272|    7.0| null|       S|\n",
      "|        894|     2|Myles, Mr. Thomas...|  male|62.0|    0|    0| 240276| 9.6875| null|       Q|\n",
      "|        895|     3|    Wirz, Mr. Albert|  male|27.0|    0|    0| 315154| 8.6625| null|       S|\n",
      "|        896|     3|Hirvonen, Mrs. Al...|female|22.0|    1|    1|3101298|12.2875| null|       S|\n",
      "+-----------+------+--------------------+------+----+-----+-----+-------+-------+-----+--------+\n",
      "only showing top 5 rows\n",
      "\n"
     ]
    }
   ],
   "source": [
    "test_new.show(5)"
   ]
  },
  {
   "cell_type": "markdown",
   "id": "efef8754",
   "metadata": {},
   "source": [
    "### Prediction"
   ]
  },
  {
   "cell_type": "code",
   "execution_count": 21,
   "id": "fa63b475",
   "metadata": {},
   "outputs": [
    {
     "name": "stdout",
     "output_type": "stream",
     "text": [
      "% of women survived: 0.7420382165605095\n"
     ]
    },
    {
     "data": {
      "text/plain": [
       "women: org.apache.spark.sql.DataFrame = [Survived: string]\n",
       "rate_women: Double = 0.7420382165605095\n"
      ]
     },
     "execution_count": 21,
     "metadata": {},
     "output_type": "execute_result"
    }
   ],
   "source": [
    "val women = train.filter(col(\"Sex\") === \"female\").select(\"Survived\")\n",
    "val rate_women = women.agg(avg(\"Survived\")).as[Double].head()\n",
    "println(\"% of women survived: \" + rate_women)\n"
   ]
  },
  {
   "cell_type": "code",
   "execution_count": 23,
   "id": "a5bd7613",
   "metadata": {},
   "outputs": [
    {
     "name": "stdout",
     "output_type": "stream",
     "text": [
      "% of men survived: 0.18890814558058924\n"
     ]
    },
    {
     "data": {
      "text/plain": [
       "women: org.apache.spark.sql.DataFrame = [Survived: string]\n",
       "rate_men: Double = 0.18890814558058924\n"
      ]
     },
     "execution_count": 23,
     "metadata": {},
     "output_type": "execute_result"
    }
   ],
   "source": [
    "val women = train.filter(col(\"Sex\") === \"male\").select(\"Survived\")\n",
    "val rate_men = women.agg(avg(\"Survived\")).as[Double].head()\n",
    "println(\"% of men survived: \" + rate_men)\n"
   ]
  },
  {
   "cell_type": "code",
   "execution_count": 78,
   "id": "af7e79a8",
   "metadata": {},
   "outputs": [
    {
     "name": "stdout",
     "output_type": "stream",
     "text": [
      "23/04/06 14:48:22 WARN InstanceBuilder$JavaBLAS: Failed to load implementation from:dev.ludovic.netlib.blas.VectorBLAS\n"
     ]
    },
    {
     "data": {
      "text/plain": [
       "import org.apache.spark.ml.Pipeline\n",
       "import org.apache.spark.ml.feature.{StringIndexer, OneHotEncoder, VectorAssembler}\n",
       "import org.apache.spark.ml.classification.LogisticRegression\n",
       "sexIndexer: org.apache.spark.ml.feature.StringIndexer = strIdx_11e1809eeda4\n",
       "embarkedIndexer: org.apache.spark.ml.feature.StringIndexer = strIdx_17316ab1fba1\n",
       "sexEncoder: org.apache.spark.ml.feature.OneHotEncoder = oneHotEncoder_34b6c30464cd\n",
       "embarkedEncoder: org.apache.spark.ml.feature.OneHotEncoder = oneHotEncoder_38baf25c479b\n",
       "assembler: org.apache.spark.ml.feature.VectorAssembler = VectorAssembler: uid=vecAssembler_8e210e4ce38e, handleInvalid=error, numInputCols=3\n",
       "lr: org.apache.spark.ml.classification.LogisticRegression = logreg_a35e622db1da\n",
       "pipeline: org.apache.spark.ml.Pipeline = pipeline_7c06efe6a676\n",
       "pipel...\n"
      ]
     },
     "execution_count": 78,
     "metadata": {},
     "output_type": "execute_result"
    }
   ],
   "source": [
    "import org.apache.spark.ml.Pipeline\n",
    "import org.apache.spark.ml.feature.{StringIndexer, OneHotEncoder, VectorAssembler}\n",
    "import org.apache.spark.ml.classification.LogisticRegression\n",
    "\n",
    "val sexIndexer = new StringIndexer()\n",
    "  .setInputCol(\"Sex\")\n",
    "  .setOutputCol(\"SexIndex\")\n",
    "\n",
    "val embarkedIndexer = new StringIndexer()\n",
    "  .setInputCol(\"Embarked\")\n",
    "  .setOutputCol(\"EmbarkedIndex\")\n",
    "\n",
    "val sexEncoder = new OneHotEncoder()\n",
    "  .setInputCol(\"SexIndex\")\n",
    "  .setOutputCol(\"SexVec\")\n",
    "\n",
    "val embarkedEncoder = new OneHotEncoder()\n",
    "  .setInputCol(\"EmbarkedIndex\")\n",
    "  .setOutputCol(\"EmbarkedVec\")\n",
    "\n",
    "val assembler = new VectorAssembler()\n",
    "  .setInputCols(Array(\"Pclass\", \"Age\", \"Fare\"))\n",
    "  .setOutputCol(\"features\")\n",
    "\n",
    "val lr = new LogisticRegression()\n",
    "  .setLabelCol(\"Survived\")\n",
    "  .setFeaturesCol(\"features\")\n",
    "  .setMaxIter(10)\n",
    "\n",
    "val pipeline = new Pipeline()\n",
    "  .setStages(Array(sexIndexer, embarkedIndexer, sexEncoder, embarkedEncoder, assembler, lr))\n",
    "\n",
    "val pipelineModel = pipeline.fit(train_final)\n",
    "\n",
    "val predictions = pipelineModel.transform(test_final)\n"
   ]
  },
  {
   "cell_type": "code",
   "execution_count": 80,
   "id": "71489ae9",
   "metadata": {},
   "outputs": [
    {
     "name": "stdout",
     "output_type": "stream",
     "text": [
      "+-----------+------+--------------------+------+------------------+-----+-----+----------------+-------+-----+--------+--------+-------------+-------------+-------------+--------------------+--------------------+--------------------+----------+\n",
      "|PassengerId|Pclass|                Name|   Sex|               Age|SibSp|Parch|          Ticket|   Fare|Cabin|Embarked|SexIndex|EmbarkedIndex|       SexVec|  EmbarkedVec|            features|       rawPrediction|         probability|prediction|\n",
      "+-----------+------+--------------------+------+------------------+-----+-----+----------------+-------+-----+--------+--------+-------------+-------------+-------------+--------------------+--------------------+--------------------+----------+\n",
      "|        892|     3|    Kelly, Mr. James|  male|              34.5|    0|    0|          330911| 7.8292| null|       Q|     0.0|          2.0|(1,[0],[1.0])|    (2,[],[])|   [3.0,34.5,7.8292]|[1.45294447734381...|[0.81045117832216...|       0.0|\n",
      "|        893|     3|Wilkes, Mrs. Jame...|female|              47.0|    1|    0|          363272|    7.0| null|       S|     1.0|          0.0|    (1,[],[])|(2,[0],[1.0])|      [3.0,47.0,7.0]|[1.90628883281560...|[0.87060164315971...|       0.0|\n",
      "|        894|     2|Myles, Mr. Thomas...|  male|              62.0|    0|    0|          240276| 9.6875| null|       Q|     0.0|          2.0|(1,[0],[1.0])|    (2,[],[])|   [2.0,62.0,9.6875]|[1.48746002908879...|[0.81569673074357...|       0.0|\n",
      "|        895|     3|    Wirz, Mr. Albert|  male|              27.0|    0|    0|          315154| 8.6625| null|       S|     0.0|          0.0|(1,[0],[1.0])|(2,[0],[1.0])|   [3.0,27.0,8.6625]|[1.17956489021522...|[0.76486956084779...|       0.0|\n",
      "|        896|     3|Hirvonen, Mrs. Al...|female|              22.0|    1|    1|         3101298|12.2875| null|       S|     1.0|          0.0|    (1,[],[])|(2,[0],[1.0])|  [3.0,22.0,12.2875]|[0.98476106242014...|[0.72805189303500...|       0.0|\n",
      "|        897|     3|Svensson, Mr. Joh...|  male|              14.0|    0|    0|            7538|  9.225| null|       S|     0.0|          0.0|(1,[0],[1.0])|(2,[0],[1.0])|    [3.0,14.0,9.225]|[0.70931289347205...|[0.67024931661115...|       0.0|\n",
      "|        898|     3|Connolly, Miss. Kate|female|              30.0|    0|    0|          330972| 7.6292| null|       Q|     1.0|          2.0|    (1,[],[])|    (2,[],[])|   [3.0,30.0,7.6292]|[1.29177887954990...|[0.78444813080257...|       0.0|\n",
      "|        899|     2|Caldwell, Mr. Alb...|  male|              26.0|    1|    1|          248738|   29.0| null|       S|     0.0|          0.0|(1,[0],[1.0])|(2,[0],[1.0])|     [2.0,26.0,29.0]|[0.11262593842757...|[0.52812675949468...|       0.0|\n",
      "|        900|     3|Abrahim, Mrs. Jos...|female|              18.0|    0|    0|            2657| 7.2292| null|       C|     1.0|          1.0|    (1,[],[])|(2,[1],[1.0])|   [3.0,18.0,7.2292]|[0.86145876424016...|[0.70296534187143...|       0.0|\n",
      "|        901|     3|Davies, Mr. John ...|  male|              21.0|    2|    0|       A/4 48871|  24.15| null|       S|     0.0|          0.0|(1,[0],[1.0])|(2,[0],[1.0])|    [3.0,21.0,24.15]|[0.90026007348744...|[0.71100294487433...|       0.0|\n",
      "|        902|     3|    Ilieff, Mr. Ylio|  male|30.272590361445783|    0|    0|          349220| 7.8958| null|       S|     0.0|          0.0|(1,[0],[1.0])|(2,[0],[1.0])|[3.0,30.272590361...|[1.30050102264491...|[0.78591929225758...|       0.0|\n",
      "|        903|     1|Jones, Mr. Charle...|  male|              46.0|    0|    0|             694|   26.0| null|       S|     0.0|          0.0|(1,[0],[1.0])|(2,[0],[1.0])|     [1.0,46.0,26.0]|[-0.1029656628053...|[0.47428130259891...|       1.0|\n",
      "|        904|     1|Snyder, Mrs. John...|female|              23.0|    1|    0|           21228|82.2667|  B45|       S|     1.0|          0.0|    (1,[],[])|(2,[0],[1.0])|  [1.0,23.0,82.2667]|[-1.1609501269359...|[0.23849468501008...|       1.0|\n",
      "|        905|     2|Howard, Mr. Benjamin|  male|              63.0|    1|    0|           24065|   26.0| null|       S|     0.0|          0.0|(1,[0],[1.0])|(2,[0],[1.0])|     [2.0,63.0,26.0]|[1.45675600849930...|[0.81103601324948...|       0.0|\n",
      "|        906|     1|Chaffee, Mrs. Her...|female|              47.0|    1|    0|     W.E.P. 5734| 61.175|  E31|       S|     1.0|          0.0|    (1,[],[])|(2,[0],[1.0])|   [1.0,47.0,61.175]|[-0.2107967283677...|[0.44749509649627...|       1.0|\n",
      "|        907|     2|del Carlo, Mrs. S...|female|              24.0|    1|    0|   SC/PARIS 2167|27.7208| null|       C|     1.0|          1.0|    (1,[],[])|(2,[1],[1.0])|  [2.0,24.0,27.7208]|[0.04586385760191...|[0.51146395494143...|       0.0|\n",
      "|        908|     2|   Keane, Mr. Daniel|  male|              35.0|    0|    0|          233734|  12.35| null|       Q|     0.0|          2.0|(1,[0],[1.0])|    (2,[],[])|    [2.0,35.0,12.35]|[0.50467303152570...|[0.62355688088061...|       0.0|\n",
      "|        909|     3|   Assaf, Mr. Gerios|  male|              21.0|    0|    0|            2692|  7.225| null|       C|     0.0|          1.0|(1,[0],[1.0])|(2,[1],[1.0])|    [3.0,21.0,7.225]|[0.96946485737965...|[0.72501281966521...|       0.0|\n",
      "|        910|     3|Ilmakangas, Miss....|female|              27.0|    1|    0|STON/O2. 3101270|  7.925| null|       S|     1.0|          0.0|    (1,[],[])|(2,[0],[1.0])|    [3.0,27.0,7.925]|[1.18258046056208...|[0.76541146018684...|       0.0|\n",
      "|        911|     3|\"Assaf Khalil, Mr...|female|              45.0|    0|    0|            2696|  7.225| null|       C|     1.0|          1.0|    (1,[],[])|(2,[1],[1.0])|    [3.0,45.0,7.225]|[1.83337621515505...|[0.86216343908884...|       0.0|\n",
      "+-----------+------+--------------------+------+------------------+-----+-----+----------------+-------+-----+--------+--------+-------------+-------------+-------------+--------------------+--------------------+--------------------+----------+\n",
      "only showing top 20 rows\n",
      "\n"
     ]
    }
   ],
   "source": [
    "predictions.show()"
   ]
  },
  {
   "cell_type": "code",
   "execution_count": null,
   "id": "75ba8c1d",
   "metadata": {},
   "outputs": [],
   "source": []
  }
 ],
 "metadata": {
  "kernelspec": {
   "display_name": "spylon-kernel",
   "language": "scala",
   "name": "spylon-kernel"
  },
  "language_info": {
   "codemirror_mode": "text/x-scala",
   "file_extension": ".scala",
   "help_links": [
    {
     "text": "MetaKernel Magics",
     "url": "https://metakernel.readthedocs.io/en/latest/source/README.html"
    }
   ],
   "mimetype": "text/x-scala",
   "name": "scala",
   "pygments_lexer": "scala",
   "version": "0.4.1"
  }
 },
 "nbformat": 4,
 "nbformat_minor": 5
}
